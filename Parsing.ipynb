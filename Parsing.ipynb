{
 "cells": [
  {
   "cell_type": "code",
   "execution_count": 1,
   "outputs": [],
   "source": [
    "from utils.miniutils import data\n",
    "import os"
   ],
   "metadata": {
    "collapsed": false,
    "pycharm": {
     "name": "#%%\n"
    }
   }
  },
  {
   "cell_type": "code",
   "execution_count": 2,
   "outputs": [],
   "source": [
    "questions = data.Json(\"questions\")\n",
    "answers = data.Json(\"answers\")"
   ],
   "metadata": {
    "collapsed": false,
    "pycharm": {
     "name": "#%%\n"
    }
   }
  },
  {
   "cell_type": "code",
   "execution_count": 3,
   "outputs": [],
   "source": [
    "def loadPacks():\n",
    "    new_questions = []\n",
    "    new_answers = []\n",
    "    packs = os.listdir(\"packs/gb\")\n",
    "    for file_name in packs:\n",
    "        if file_name.endswith(\"w.txt\"):\n",
    "            # White pack\n",
    "            with open(\"packs/gb/\" + file_name) as file:\n",
    "                new_answers += (line.strip() for line in file.readlines())\n",
    "        elif file_name.endswith(\"b.txt\"):\n",
    "            # Black pack\n",
    "            with open(\"packs/gb/\" + file_name) as file:\n",
    "                new_questions += (line.strip() for line in file.readlines())\n",
    "    return new_questions, new_answers"
   ],
   "metadata": {
    "collapsed": false,
    "pycharm": {
     "name": "#%%\n"
    }
   }
  },
  {
   "cell_type": "code",
   "execution_count": 4,
   "outputs": [],
   "source": [
    "all_questions, all_answers = loadPacks()"
   ],
   "metadata": {
    "collapsed": false,
    "pycharm": {
     "name": "#%%\n"
    }
   }
  },
  {
   "cell_type": "code",
   "execution_count": 5,
   "outputs": [],
   "source": [
    "questions.save_data({bin(index + 1)[2:]: question for index, question in enumerate(all_questions)})\n",
    "answers.save_data({bin(index + 1)[2:]: question for index, question in enumerate(all_answers)})"
   ],
   "metadata": {
    "collapsed": false,
    "pycharm": {
     "name": "#%%\n"
    }
   }
  },
  {
   "cell_type": "code",
   "execution_count": null,
   "outputs": [],
   "source": [
    "\n"
   ],
   "metadata": {
    "collapsed": false,
    "pycharm": {
     "name": "#%%\n"
    }
   }
  }
 ],
 "metadata": {
  "kernelspec": {
   "name": "python3",
   "language": "python",
   "display_name": "Python 3"
  },
  "language_info": {
   "codemirror_mode": {
    "name": "ipython",
    "version": 2
   },
   "file_extension": ".py",
   "mimetype": "text/x-python",
   "name": "python",
   "nbconvert_exporter": "python",
   "pygments_lexer": "ipython2",
   "version": "2.7.6"
  }
 },
 "nbformat": 4,
 "nbformat_minor": 0
}